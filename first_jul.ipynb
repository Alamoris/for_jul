{
 "cells": [
  {
   "cell_type": "markdown",
   "id": "czech-behavior",
   "metadata": {},
   "source": [
    "Примеры работы с Julia в одном месте\n"
   ]
  },
  {
   "cell_type": "code",
   "execution_count": 2,
   "id": "minor-reset",
   "metadata": {},
   "outputs": [
    {
     "name": "stdout",
     "output_type": "stream",
     "text": [
      "Hi Julia\n"
     ]
    }
   ],
   "source": [
    "println(\"Hi Julia\")"
   ]
  },
  {
   "cell_type": "markdown",
   "id": "danish-printing",
   "metadata": {},
   "source": [
    "Работа с переменными примерно такая же как и в питоне"
   ]
  },
  {
   "cell_type": "code",
   "execution_count": 10,
   "id": "medium-postcard",
   "metadata": {},
   "outputs": [
    {
     "name": "stdout",
     "output_type": "stream",
     "text": [
      "Summ 113\n",
      "Diff 19\n",
      "Prod 4\n",
      "Quot 9.0\n",
      "Pow 100\n",
      "Mod 5\n"
     ]
    }
   ],
   "source": [
    "#=Sum=# println(\"Summ $(30 + 83)\")\n",
    "#=Diff=# println(\"Diff $(43 - 24)\")\n",
    "#=Prod=# println(\"Prod $(2 * 2)\")\n",
    "#=Quot=# println(\"Quot $(45 / 5)\")\n",
    "#=Pow=# println(\"Pow $(10 ^ 2)\")\n",
    "#=Mod=# println(\"Mod $(95 % 10)\")"
   ]
  },
  {
   "cell_type": "code",
   "execution_count": 8,
   "id": "developing-british",
   "metadata": {},
   "outputs": [
    {
     "data": {
      "text/plain": [
       "String"
      ]
     },
     "execution_count": 8,
     "metadata": {},
     "output_type": "execute_result"
    }
   ],
   "source": [
    "typeof(\"\"\"Test\"\"\")"
   ]
  },
  {
   "cell_type": "markdown",
   "id": "royal-engineer",
   "metadata": {},
   "source": [
    "Словарики"
   ]
  },
  {
   "cell_type": "code",
   "execution_count": 21,
   "id": "scenic-daisy",
   "metadata": {},
   "outputs": [],
   "source": [
    "dict = Dict(\"first_key\" => 1, \"second_key\" => 2)\n",
    "#=Add more to dict=#\n",
    "dict[\"third_key\"] = 3;"
   ]
  },
  {
   "cell_type": "code",
   "execution_count": 22,
   "id": "married-liberia",
   "metadata": {},
   "outputs": [
    {
     "name": "stdout",
     "output_type": "stream",
     "text": [
      "Dict(\"first_key\" => 1, \"second_key\" => 2, \"third_key\" => 3)\n"
     ]
    },
    {
     "data": {
      "text/plain": [
       "Dict{String, Int64} with 3 entries:\n",
       "  \"first_key\"  => 1\n",
       "  \"second_key\" => 2\n",
       "  \"third_key\"  => 3"
      ]
     },
     "execution_count": 22,
     "metadata": {},
     "output_type": "execute_result"
    }
   ],
   "source": [
    "println(dict)\n",
    "dict"
   ]
  },
  {
   "cell_type": "markdown",
   "id": "reduced-registrar",
   "metadata": {},
   "source": [
    "Получение значений работает примерно так"
   ]
  },
  {
   "cell_type": "code",
   "execution_count": 23,
   "id": "narrow-phone",
   "metadata": {},
   "outputs": [
    {
     "name": "stdout",
     "output_type": "stream",
     "text": [
      "1\n"
     ]
    },
    {
     "data": {
      "text/plain": [
       "Dict{String, Int64} with 2 entries:\n",
       "  \"second_key\" => 2\n",
       "  \"third_key\"  => 3"
      ]
     },
     "execution_count": 23,
     "metadata": {},
     "output_type": "execute_result"
    }
   ],
   "source": [
    "println(pop!(dict, \"first_key\"))\n",
    "dict"
   ]
  },
  {
   "cell_type": "code",
   "execution_count": 24,
   "id": "outstanding-passenger",
   "metadata": {},
   "outputs": [],
   "source": [
    "#=Индексировать словари мы не можем, это же не массивы=#"
   ]
  },
  {
   "cell_type": "code",
   "execution_count": 25,
   "id": "economic-balance",
   "metadata": {},
   "outputs": [
    {
     "ename": "LoadError",
     "evalue": "KeyError: key 1 not found",
     "output_type": "error",
     "traceback": [
      "KeyError: key 1 not found",
      "",
      "Stacktrace:",
      " [1] getindex(h::Dict{String, Int64}, key::Int64)",
      "   @ Base ./dict.jl:482",
      " [2] top-level scope",
      "   @ In[25]:1",
      " [3] eval",
      "   @ ./boot.jl:360 [inlined]",
      " [4] include_string(mapexpr::typeof(REPL.softscope), mod::Module, code::String, filename::String)",
      "   @ Base ./loading.jl:1094"
     ]
    }
   ],
   "source": [
    "dict[1]"
   ]
  },
  {
   "cell_type": "markdown",
   "id": "potential-notion",
   "metadata": {},
   "source": []
  }
 ],
 "metadata": {
  "kernelspec": {
   "display_name": "Julia 1.6.0",
   "language": "julia",
   "name": "julia-1.6"
  },
  "language_info": {
   "file_extension": ".jl",
   "mimetype": "application/julia",
   "name": "julia",
   "version": "1.6.0"
  }
 },
 "nbformat": 4,
 "nbformat_minor": 5
}
